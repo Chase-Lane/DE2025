{
 "cells": [
  {
   "cell_type": "code",
   "execution_count": null,
   "id": "3522ec53-0922-4b6a-a4cc-6ebc52c5ab2d",
   "metadata": {},
   "outputs": [],
   "source": [
    "#testing adding module one folder"
   ]
  }
 ],
 "metadata": {
  "kernelspec": {
   "display_name": "Python 3 (ipykernel)",
   "language": "python",
   "name": "python3"
  },
  "language_info": {
   "codemirror_mode": {
    "name": "ipython",
    "version": 3
   },
   "file_extension": ".py",
   "mimetype": "text/x-python",
   "name": "python",
   "nbconvert_exporter": "python",
   "pygments_lexer": "ipython3",
   "version": "3.12.1"
  }
 },
 "nbformat": 4,
 "nbformat_minor": 5
}
